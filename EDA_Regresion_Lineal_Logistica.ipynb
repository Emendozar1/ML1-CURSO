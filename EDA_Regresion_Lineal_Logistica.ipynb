{
 "cells": [
  {
   "cell_type": "markdown",
   "id": "d232aa9e",
   "metadata": {},
   "source": [
    "# 📊 Actividad: EDA y Modelado con Regresión Lineal y Logística\n",
    "**Estudiante:** TU NOMBRE AQUÍ  \n",
    "**Fecha:** AAAA-MM-DD  \n",
    "**Dataset:** House Prices - Advanced Regression Techniques"
   ]
  },
  {
   "cell_type": "code",
   "execution_count": null,
   "id": "02f76f33",
   "metadata": {},
   "outputs": [],
   "source": [
    "import pandas as pd\n",
    "import numpy as np\n",
    "import matplotlib.pyplot as plt\n",
    "import seaborn as sns\n",
    "\n",
    "from sklearn.linear_model import LinearRegression, LogisticRegression, SGDRegressor, SGDClassifier\n",
    "from sklearn.metrics import mean_squared_error, mean_absolute_error, r2_score, accuracy_score, f1_score, confusion_matrix\n",
    "from sklearn.model_selection import train_test_split\n",
    "from sklearn.preprocessing import StandardScaler\n",
    "\n",
    "# Cargar datos\n",
    "df = pd.read_csv('data/train.csv')\n",
    "df.head()"
   ]
  },
  {
   "cell_type": "markdown",
   "id": "0ed05f79",
   "metadata": {},
   "source": [
    "## 🔍 1. EDA Básico"
   ]
  },
  {
   "cell_type": "code",
   "execution_count": null,
   "id": "45d79cd3",
   "metadata": {},
   "outputs": [],
   "source": [
    "df.info()\n",
    "df.describe()\n",
    "df.isnull().sum().sort_values(ascending=False).head(10)"
   ]
  },
  {
   "cell_type": "code",
   "execution_count": null,
   "id": "afbc876b",
   "metadata": {},
   "outputs": [],
   "source": [
    "plt.figure(figsize=(12,8))\n",
    "sns.heatmap(df.corr(numeric_only=True), cmap='coolwarm')\n",
    "plt.title('Mapa de correlación')\n",
    "plt.show()"
   ]
  },
  {
   "cell_type": "markdown",
   "id": "1a735ed6",
   "metadata": {},
   "source": [
    "## 📈 2. Regresión Lineal"
   ]
  },
  {
   "cell_type": "code",
   "execution_count": null,
   "id": "ccc8e49d",
   "metadata": {},
   "outputs": [],
   "source": [
    "features = ['GrLivArea', 'OverallQual', 'YearBuilt', 'TotalBsmtSF', 'GarageCars']\n",
    "X = df[features]\n",
    "y = df['SalePrice']\n",
    "X_train, X_test, y_train, y_test = train_test_split(X, y, test_size=0.2, random_state=42)\n",
    "lr = LinearRegression()\n",
    "lr.fit(X_train, y_train)\n",
    "y_pred_lr = lr.predict(X_test)\n",
    "print(\"R²:\", r2_score(y_test, y_pred_lr))\n",
    "print(\"MAE:\", mean_absolute_error(y_test, y_pred_lr))\n",
    "print(\"RMSE:\", np.sqrt(mean_squared_error(y_test, y_pred_lr)))\n",
    "pd.Series(lr.coef_, index=features)"
   ]
  },
  {
   "cell_type": "markdown",
   "id": "cb810007",
   "metadata": {},
   "source": [
    "## ⚙️ 3. Regresión Lineal con Gradiente Descendente"
   ]
  },
  {
   "cell_type": "code",
   "execution_count": null,
   "id": "7b771932",
   "metadata": {},
   "outputs": [],
   "source": [
    "sgd_reg = SGDRegressor(max_iter=1000, tol=1e-3, random_state=42)\n",
    "sgd_reg.fit(X_train, y_train)\n",
    "y_pred_sgd = sgd_reg.predict(X_test)\n",
    "print(\"SGD - R²:\", r2_score(y_test, y_pred_sgd))\n",
    "print(\"SGD - MAE:\", mean_absolute_error(y_test, y_pred_sgd))\n",
    "print(\"SGD - RMSE:\", np.sqrt(mean_squared_error(y_test, y_pred_sgd)))"
   ]
  },
  {
   "cell_type": "markdown",
   "id": "105e29fd",
   "metadata": {},
   "source": [
    "## 🧪 4. Regresión Logística"
   ]
  },
  {
   "cell_type": "code",
   "execution_count": null,
   "id": "d56d984e",
   "metadata": {},
   "outputs": [],
   "source": [
    "df['HighPrice'] = (df['SalePrice'] > df['SalePrice'].mean()).astype(int)\n",
    "X_cls = df[features]\n",
    "y_cls = df['HighPrice']\n",
    "X_train_cls, X_test_cls, y_train_cls, y_test_cls = train_test_split(X_cls, y_cls, test_size=0.2, random_state=42)\n",
    "logreg = LogisticRegression(max_iter=1000)\n",
    "logreg.fit(X_train_cls, y_train_cls)\n",
    "y_pred_log = logreg.predict(X_test_cls)\n",
    "print(\"Accuracy:\", accuracy_score(y_test_cls, y_pred_log))\n",
    "print(\"F1 Score:\", f1_score(y_test_cls, y_pred_log))\n",
    "print(\"Confusion Matrix:\\n\", confusion_matrix(y_test_cls, y_pred_log))"
   ]
  },
  {
   "cell_type": "markdown",
   "id": "8d9e8783",
   "metadata": {},
   "source": [
    "## 🔁 5. Clasificador con Gradiente Descendente"
   ]
  },
  {
   "cell_type": "code",
   "execution_count": null,
   "id": "5644f5ba",
   "metadata": {},
   "outputs": [],
   "source": [
    "sgd_cls = SGDClassifier(max_iter=1000, tol=1e-3, random_state=42)\n",
    "sgd_cls.fit(X_train_cls, y_train_cls)\n",
    "y_pred_sgd_cls = sgd_cls.predict(X_test_cls)\n",
    "print(\"SGD - Accuracy:\", accuracy_score(y_test_cls, y_pred_sgd_cls))\n",
    "print(\"SGD - F1 Score:\", f1_score(y_test_cls, y_pred_sgd_cls))\n",
    "print(\"SGD - Confusion Matrix:\\n\", confusion_matrix(y_test_cls, y_pred_sgd_cls))"
   ]
  },
  {
   "cell_type": "markdown",
   "id": "655431e4",
   "metadata": {},
   "source": [
    "## 🧠 6. Conclusión reflexiva\n",
    "\n",
    "- ¿Qué variables influyeron más en los modelos y por qué?\n",
    "- ¿Qué diferencias observaste entre modelos clásicos y los que usan gradiente descendente?\n",
    "- ¿Qué mejorarías en un próximo análisis?"
   ]
  },
  {
   "cell_type": "code",
   "execution_count": null,
   "id": "92aa21f4",
   "metadata": {},
   "outputs": [],
   "source": [
    "# Si usas Otter-Grader\n",
    "# import otter\n",
    "# otter.Notebook().export('eda_modelado_regresion.ipynb')"
   ]
  }
 ],
 "metadata": {},
 "nbformat": 4,
 "nbformat_minor": 5
}
